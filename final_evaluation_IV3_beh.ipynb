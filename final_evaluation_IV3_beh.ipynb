{
 "cells": [
  {
   "cell_type": "markdown",
   "id": "fb8ec6a4",
   "metadata": {},
   "source": [
    "# Set 2 Round 2 of experiments\n",
    "## Evaluating Inception behaviour features"
   ]
  },
  {
   "cell_type": "code",
   "execution_count": 1,
   "id": "f13037f0",
   "metadata": {},
   "outputs": [],
   "source": [
    "import pandas as pd\n",
    "import numpy as np\n",
    "import os\n",
    "import glob\n",
    "import matplotlib.pyplot as plt\n",
    "from matplotlib.image import imread \n",
    "import PIL\n",
    "from PIL import Image\n",
    "from sklearn import svm\n",
    "from sklearn.metrics import confusion_matrix\n",
    "import seaborn as sns\n",
    "import matplotlib.pyplot as plt\n",
    "import h5py\n",
    "from pickle import dump\n",
    "from sklearn.svm import SVC\n",
    "from sklearn.model_selection import RandomizedSearchCV\n",
    "from sklearn.preprocessing import StandardScaler\n",
    "import scipy\n",
    "from sklearn.metrics import classification_report\n"
   ]
  },
  {
   "cell_type": "code",
   "execution_count": 2,
   "id": "8b103aaa",
   "metadata": {},
   "outputs": [
    {
     "data": {
      "text/html": [
       "<div>\n",
       "<style scoped>\n",
       "    .dataframe tbody tr th:only-of-type {\n",
       "        vertical-align: middle;\n",
       "    }\n",
       "\n",
       "    .dataframe tbody tr th {\n",
       "        vertical-align: top;\n",
       "    }\n",
       "\n",
       "    .dataframe thead th {\n",
       "        text-align: right;\n",
       "    }\n",
       "</style>\n",
       "<table border=\"1\" class=\"dataframe\">\n",
       "  <thead>\n",
       "    <tr style=\"text-align: right;\">\n",
       "      <th></th>\n",
       "      <th>Unnamed: 0</th>\n",
       "      <th>path</th>\n",
       "      <th>label</th>\n",
       "    </tr>\n",
       "  </thead>\n",
       "  <tbody>\n",
       "    <tr>\n",
       "      <th>0</th>\n",
       "      <td>0</td>\n",
       "      <td>data/MotionEmotion/Motion_Emotion_Dataset/vide...</td>\n",
       "      <td>5</td>\n",
       "    </tr>\n",
       "    <tr>\n",
       "      <th>1</th>\n",
       "      <td>1</td>\n",
       "      <td>data/MotionEmotion/Motion_Emotion_Dataset/vide...</td>\n",
       "      <td>5</td>\n",
       "    </tr>\n",
       "    <tr>\n",
       "      <th>2</th>\n",
       "      <td>2</td>\n",
       "      <td>data/MotionEmotion/Motion_Emotion_Dataset/vide...</td>\n",
       "      <td>5</td>\n",
       "    </tr>\n",
       "    <tr>\n",
       "      <th>3</th>\n",
       "      <td>3</td>\n",
       "      <td>data/MotionEmotion/Motion_Emotion_Dataset/vide...</td>\n",
       "      <td>5</td>\n",
       "    </tr>\n",
       "    <tr>\n",
       "      <th>4</th>\n",
       "      <td>4</td>\n",
       "      <td>data/MotionEmotion/Motion_Emotion_Dataset/vide...</td>\n",
       "      <td>5</td>\n",
       "    </tr>\n",
       "    <tr>\n",
       "      <th>...</th>\n",
       "      <td>...</td>\n",
       "      <td>...</td>\n",
       "      <td>...</td>\n",
       "    </tr>\n",
       "    <tr>\n",
       "      <th>4162</th>\n",
       "      <td>43778</td>\n",
       "      <td>data/MotionEmotion/Motion_Emotion_Dataset/vide...</td>\n",
       "      <td>2</td>\n",
       "    </tr>\n",
       "    <tr>\n",
       "      <th>4163</th>\n",
       "      <td>43779</td>\n",
       "      <td>data/MotionEmotion/Motion_Emotion_Dataset/vide...</td>\n",
       "      <td>2</td>\n",
       "    </tr>\n",
       "    <tr>\n",
       "      <th>4164</th>\n",
       "      <td>43780</td>\n",
       "      <td>data/MotionEmotion/Motion_Emotion_Dataset/vide...</td>\n",
       "      <td>2</td>\n",
       "    </tr>\n",
       "    <tr>\n",
       "      <th>4165</th>\n",
       "      <td>43781</td>\n",
       "      <td>data/MotionEmotion/Motion_Emotion_Dataset/vide...</td>\n",
       "      <td>2</td>\n",
       "    </tr>\n",
       "    <tr>\n",
       "      <th>4166</th>\n",
       "      <td>43782</td>\n",
       "      <td>data/MotionEmotion/Motion_Emotion_Dataset/vide...</td>\n",
       "      <td>2</td>\n",
       "    </tr>\n",
       "  </tbody>\n",
       "</table>\n",
       "<p>4167 rows × 3 columns</p>\n",
       "</div>"
      ],
      "text/plain": [
       "      Unnamed: 0                                               path  label\n",
       "0              0  data/MotionEmotion/Motion_Emotion_Dataset/vide...      5\n",
       "1              1  data/MotionEmotion/Motion_Emotion_Dataset/vide...      5\n",
       "2              2  data/MotionEmotion/Motion_Emotion_Dataset/vide...      5\n",
       "3              3  data/MotionEmotion/Motion_Emotion_Dataset/vide...      5\n",
       "4              4  data/MotionEmotion/Motion_Emotion_Dataset/vide...      5\n",
       "...          ...                                                ...    ...\n",
       "4162       43778  data/MotionEmotion/Motion_Emotion_Dataset/vide...      2\n",
       "4163       43779  data/MotionEmotion/Motion_Emotion_Dataset/vide...      2\n",
       "4164       43780  data/MotionEmotion/Motion_Emotion_Dataset/vide...      2\n",
       "4165       43781  data/MotionEmotion/Motion_Emotion_Dataset/vide...      2\n",
       "4166       43782  data/MotionEmotion/Motion_Emotion_Dataset/vide...      2\n",
       "\n",
       "[4167 rows x 3 columns]"
      ]
     },
     "execution_count": 2,
     "metadata": {},
     "output_type": "execute_result"
    }
   ],
   "source": [
    "training = sorted(glob.glob(r'data/all_features/mid-level/IV3- beh/*.csv'))\n",
    "training_labels = pd.read_csv('data/MotionEmotion/reduced_beh_labelled_dataset.csv')\n",
    "training_labels"
   ]
  },
  {
   "cell_type": "code",
   "execution_count": 3,
   "id": "fbed3486",
   "metadata": {},
   "outputs": [],
   "source": [
    "from natsort import natsorted \n",
    "#this works!\n",
    "sorted_array = natsorted(training, key=lambda x:(x[29].isdigit(), x))"
   ]
  },
  {
   "cell_type": "code",
   "execution_count": 4,
   "id": "f260bd0b",
   "metadata": {},
   "outputs": [],
   "source": [
    "training_df = pd.DataFrame()\n",
    "training_df['path'] = sorted_array\n",
    "training_df['label'] = training_labels['label']\n",
    " "
   ]
  },
  {
   "cell_type": "code",
   "execution_count": 5,
   "id": "a9825e23",
   "metadata": {},
   "outputs": [
    {
     "data": {
      "text/html": [
       "<div>\n",
       "<style scoped>\n",
       "    .dataframe tbody tr th:only-of-type {\n",
       "        vertical-align: middle;\n",
       "    }\n",
       "\n",
       "    .dataframe tbody tr th {\n",
       "        vertical-align: top;\n",
       "    }\n",
       "\n",
       "    .dataframe thead th {\n",
       "        text-align: right;\n",
       "    }\n",
       "</style>\n",
       "<table border=\"1\" class=\"dataframe\">\n",
       "  <thead>\n",
       "    <tr style=\"text-align: right;\">\n",
       "      <th></th>\n",
       "      <th>path</th>\n",
       "      <th>label</th>\n",
       "    </tr>\n",
       "  </thead>\n",
       "  <tbody>\n",
       "    <tr>\n",
       "      <th>56</th>\n",
       "      <td>data/all_features/mid-level/IV3- beh/data57.csv</td>\n",
       "      <td>4</td>\n",
       "    </tr>\n",
       "    <tr>\n",
       "      <th>57</th>\n",
       "      <td>data/all_features/mid-level/IV3- beh/data58.csv</td>\n",
       "      <td>4</td>\n",
       "    </tr>\n",
       "    <tr>\n",
       "      <th>58</th>\n",
       "      <td>data/all_features/mid-level/IV3- beh/data59.csv</td>\n",
       "      <td>4</td>\n",
       "    </tr>\n",
       "    <tr>\n",
       "      <th>59</th>\n",
       "      <td>data/all_features/mid-level/IV3- beh/data60.csv</td>\n",
       "      <td>4</td>\n",
       "    </tr>\n",
       "    <tr>\n",
       "      <th>60</th>\n",
       "      <td>data/all_features/mid-level/IV3- beh/data61.csv</td>\n",
       "      <td>4</td>\n",
       "    </tr>\n",
       "    <tr>\n",
       "      <th>...</th>\n",
       "      <td>...</td>\n",
       "      <td>...</td>\n",
       "    </tr>\n",
       "    <tr>\n",
       "      <th>4162</th>\n",
       "      <td>data/all_features/mid-level/IV3- beh/data4163.csv</td>\n",
       "      <td>2</td>\n",
       "    </tr>\n",
       "    <tr>\n",
       "      <th>4163</th>\n",
       "      <td>data/all_features/mid-level/IV3- beh/data4164.csv</td>\n",
       "      <td>2</td>\n",
       "    </tr>\n",
       "    <tr>\n",
       "      <th>4164</th>\n",
       "      <td>data/all_features/mid-level/IV3- beh/data4165.csv</td>\n",
       "      <td>2</td>\n",
       "    </tr>\n",
       "    <tr>\n",
       "      <th>4165</th>\n",
       "      <td>data/all_features/mid-level/IV3- beh/data4166.csv</td>\n",
       "      <td>2</td>\n",
       "    </tr>\n",
       "    <tr>\n",
       "      <th>4166</th>\n",
       "      <td>data/all_features/mid-level/IV3- beh/data4167.csv</td>\n",
       "      <td>2</td>\n",
       "    </tr>\n",
       "  </tbody>\n",
       "</table>\n",
       "<p>2093 rows × 2 columns</p>\n",
       "</div>"
      ],
      "text/plain": [
       "                                                   path  label\n",
       "56      data/all_features/mid-level/IV3- beh/data57.csv      4\n",
       "57      data/all_features/mid-level/IV3- beh/data58.csv      4\n",
       "58      data/all_features/mid-level/IV3- beh/data59.csv      4\n",
       "59      data/all_features/mid-level/IV3- beh/data60.csv      4\n",
       "60      data/all_features/mid-level/IV3- beh/data61.csv      4\n",
       "...                                                 ...    ...\n",
       "4162  data/all_features/mid-level/IV3- beh/data4163.csv      2\n",
       "4163  data/all_features/mid-level/IV3- beh/data4164.csv      2\n",
       "4164  data/all_features/mid-level/IV3- beh/data4165.csv      2\n",
       "4165  data/all_features/mid-level/IV3- beh/data4166.csv      2\n",
       "4166  data/all_features/mid-level/IV3- beh/data4167.csv      2\n",
       "\n",
       "[2093 rows x 2 columns]"
      ]
     },
     "execution_count": 5,
     "metadata": {},
     "output_type": "execute_result"
    }
   ],
   "source": [
    "neutral = training_df[training_df['label'] == 5].sample(n=650)\n",
    "neutral_ = training_df[training_df['label']== 5].index\n",
    "training_df.drop(neutral_, inplace=True)\n",
    "training_df"
   ]
  },
  {
   "cell_type": "code",
   "execution_count": 6,
   "id": "d530d4a5",
   "metadata": {},
   "outputs": [],
   "source": [
    "train = pd.concat((training_df,neutral))\n",
    "train_features = [ ]\n",
    "train_labels = train.label\n",
    "for i in train.path:    \n",
    "    with open(i) as file_name:\n",
    "        array = np.loadtxt(file_name, delimiter=\",\")\n",
    "        train_features.append(array)\n",
    "    #print(array)"
   ]
  },
  {
   "cell_type": "code",
   "execution_count": 7,
   "id": "6599dbf0",
   "metadata": {},
   "outputs": [
    {
     "data": {
      "text/plain": [
       "'\\nloading testing features\\n'"
      ]
     },
     "execution_count": 7,
     "metadata": {},
     "output_type": "execute_result"
    }
   ],
   "source": [
    "'''\n",
    "loading testing features\n",
    "'''"
   ]
  },
  {
   "cell_type": "code",
   "execution_count": 8,
   "id": "e3a10666",
   "metadata": {},
   "outputs": [
    {
     "data": {
      "text/html": [
       "<div>\n",
       "<style scoped>\n",
       "    .dataframe tbody tr th:only-of-type {\n",
       "        vertical-align: middle;\n",
       "    }\n",
       "\n",
       "    .dataframe tbody tr th {\n",
       "        vertical-align: top;\n",
       "    }\n",
       "\n",
       "    .dataframe thead th {\n",
       "        text-align: right;\n",
       "    }\n",
       "</style>\n",
       "<table border=\"1\" class=\"dataframe\">\n",
       "  <thead>\n",
       "    <tr style=\"text-align: right;\">\n",
       "      <th></th>\n",
       "      <th>Unnamed: 0.1</th>\n",
       "      <th>Unnamed: 0</th>\n",
       "      <th>test_path</th>\n",
       "      <th>test_labels</th>\n",
       "    </tr>\n",
       "  </thead>\n",
       "  <tbody>\n",
       "    <tr>\n",
       "      <th>0</th>\n",
       "      <td>11236</td>\n",
       "      <td>11236</td>\n",
       "      <td>data/MotionEmotion/Motion_Emotion_Dataset/vide...</td>\n",
       "      <td>1</td>\n",
       "    </tr>\n",
       "    <tr>\n",
       "      <th>1</th>\n",
       "      <td>3885</td>\n",
       "      <td>3885</td>\n",
       "      <td>data/MotionEmotion/Motion_Emotion_Dataset/vide...</td>\n",
       "      <td>1</td>\n",
       "    </tr>\n",
       "    <tr>\n",
       "      <th>2</th>\n",
       "      <td>11329</td>\n",
       "      <td>11329</td>\n",
       "      <td>data/MotionEmotion/Motion_Emotion_Dataset/vide...</td>\n",
       "      <td>1</td>\n",
       "    </tr>\n",
       "    <tr>\n",
       "      <th>3</th>\n",
       "      <td>1919</td>\n",
       "      <td>1919</td>\n",
       "      <td>data/MotionEmotion/Motion_Emotion_Dataset/vide...</td>\n",
       "      <td>1</td>\n",
       "    </tr>\n",
       "    <tr>\n",
       "      <th>4</th>\n",
       "      <td>11187</td>\n",
       "      <td>11187</td>\n",
       "      <td>data/MotionEmotion/Motion_Emotion_Dataset/vide...</td>\n",
       "      <td>1</td>\n",
       "    </tr>\n",
       "    <tr>\n",
       "      <th>...</th>\n",
       "      <td>...</td>\n",
       "      <td>...</td>\n",
       "      <td>...</td>\n",
       "      <td>...</td>\n",
       "    </tr>\n",
       "    <tr>\n",
       "      <th>995</th>\n",
       "      <td>13141</td>\n",
       "      <td>13141</td>\n",
       "      <td>data/MotionEmotion/Motion_Emotion_Dataset/vide...</td>\n",
       "      <td>5</td>\n",
       "    </tr>\n",
       "    <tr>\n",
       "      <th>996</th>\n",
       "      <td>31830</td>\n",
       "      <td>31830</td>\n",
       "      <td>data/MotionEmotion/Motion_Emotion_Dataset/vide...</td>\n",
       "      <td>5</td>\n",
       "    </tr>\n",
       "    <tr>\n",
       "      <th>997</th>\n",
       "      <td>10188</td>\n",
       "      <td>10188</td>\n",
       "      <td>data/MotionEmotion/Motion_Emotion_Dataset/vide...</td>\n",
       "      <td>5</td>\n",
       "    </tr>\n",
       "    <tr>\n",
       "      <th>998</th>\n",
       "      <td>16226</td>\n",
       "      <td>16226</td>\n",
       "      <td>data/MotionEmotion/Motion_Emotion_Dataset/vide...</td>\n",
       "      <td>5</td>\n",
       "    </tr>\n",
       "    <tr>\n",
       "      <th>999</th>\n",
       "      <td>30336</td>\n",
       "      <td>30336</td>\n",
       "      <td>data/MotionEmotion/Motion_Emotion_Dataset/vide...</td>\n",
       "      <td>5</td>\n",
       "    </tr>\n",
       "  </tbody>\n",
       "</table>\n",
       "<p>1000 rows × 4 columns</p>\n",
       "</div>"
      ],
      "text/plain": [
       "     Unnamed: 0.1  Unnamed: 0  \\\n",
       "0           11236       11236   \n",
       "1            3885        3885   \n",
       "2           11329       11329   \n",
       "3            1919        1919   \n",
       "4           11187       11187   \n",
       "..            ...         ...   \n",
       "995         13141       13141   \n",
       "996         31830       31830   \n",
       "997         10188       10188   \n",
       "998         16226       16226   \n",
       "999         30336       30336   \n",
       "\n",
       "                                             test_path  test_labels  \n",
       "0    data/MotionEmotion/Motion_Emotion_Dataset/vide...            1  \n",
       "1    data/MotionEmotion/Motion_Emotion_Dataset/vide...            1  \n",
       "2    data/MotionEmotion/Motion_Emotion_Dataset/vide...            1  \n",
       "3    data/MotionEmotion/Motion_Emotion_Dataset/vide...            1  \n",
       "4    data/MotionEmotion/Motion_Emotion_Dataset/vide...            1  \n",
       "..                                                 ...          ...  \n",
       "995  data/MotionEmotion/Motion_Emotion_Dataset/vide...            5  \n",
       "996  data/MotionEmotion/Motion_Emotion_Dataset/vide...            5  \n",
       "997  data/MotionEmotion/Motion_Emotion_Dataset/vide...            5  \n",
       "998  data/MotionEmotion/Motion_Emotion_Dataset/vide...            5  \n",
       "999  data/MotionEmotion/Motion_Emotion_Dataset/vide...            5  \n",
       "\n",
       "[1000 rows x 4 columns]"
      ]
     },
     "execution_count": 8,
     "metadata": {},
     "output_type": "execute_result"
    }
   ],
   "source": [
    "testing_ = pd.read_csv('data/MotionEmotion/test_set_beh.csv')\n",
    "testing_"
   ]
  },
  {
   "cell_type": "code",
   "execution_count": 9,
   "id": "c5ff066b",
   "metadata": {},
   "outputs": [],
   "source": [
    "test_labels = testing_.test_labels "
   ]
  },
  {
   "cell_type": "code",
   "execution_count": 24,
   "id": "01e9d12e",
   "metadata": {},
   "outputs": [],
   "source": [
    "testing_ = sorted(glob.glob(r'data/all_features/IV3_test_beh/*.csv'))"
   ]
  },
  {
   "cell_type": "code",
   "execution_count": 26,
   "id": "24be6ee1",
   "metadata": {},
   "outputs": [],
   "source": [
    "from natsort import natsorted \n",
    "#this works!\n",
    "test_features = natsorted(testing_, key=lambda x:(x[29].isdigit(), x))\n",
    "#sorted_array"
   ]
  },
  {
   "cell_type": "code",
   "execution_count": 28,
   "id": "35bfffda",
   "metadata": {},
   "outputs": [],
   "source": [
    "testing = pd.DataFrame()\n",
    "testing['path'] = test_features\n",
    "testing['label'] = test_labels"
   ]
  },
  {
   "cell_type": "code",
   "execution_count": 29,
   "id": "f5a821cd",
   "metadata": {},
   "outputs": [],
   "source": [
    "test_features = [ ]\n",
    "test_labels_ = testing.label\n",
    "for i_ in testing.path:    \n",
    "    with open(i_) as file_name_:\n",
    "        array_ = np.loadtxt(file_name_, delimiter=\",\")\n",
    "        test_features.append(array_)\n",
    "    #print(array)"
   ]
  },
  {
   "cell_type": "code",
   "execution_count": 30,
   "id": "ec21c5ef",
   "metadata": {},
   "outputs": [
    {
     "name": "stdout",
     "output_type": "stream",
     "text": [
      "Accuracy Linear Kernel: 0.581\n",
      "              precision    recall  f1-score   support\n",
      "\n",
      "           1       0.82      0.69      0.75       200\n",
      "           2       0.85      0.36      0.51       200\n",
      "           3       0.95      0.41      0.58       200\n",
      "           4       0.79      0.59      0.67       200\n",
      "           5       0.33      0.84      0.48       200\n",
      "\n",
      "    accuracy                           0.58      1000\n",
      "   macro avg       0.75      0.58      0.60      1000\n",
      "weighted avg       0.75      0.58      0.60      1000\n",
      "\n"
     ]
    },
    {
     "data": {
      "image/png": "[encoded data removed]",
      "text/plain": [
       "<Figure size 576x576 with 1 Axes>"
      ]
     },
     "metadata": {
      "needs_background": "light"
     },
     "output_type": "display_data"
    }
   ],
   "source": [
    "linear = svm.SVC(kernel='linear', decision_function_shape='ovo').fit(train_features, train_labels)\n",
    "linear_pred = linear.predict(test_features)\n",
    "accuracy_lin = linear.score(test_features, test_labels_)\n",
    "import seaborn as sns\n",
    "import matplotlib.pyplot as plt\n",
    "cm_lin = confusion_matrix(test_labels_, linear_pred)\n",
    "print('Accuracy Linear Kernel:', accuracy_lin)\n",
    "fig, ax = plt.subplots(figsize=(8,8))         # Sample figsize in inches\n",
    "ax = sns.heatmap(cm_lin, annot=True, cmap='Blues',annot_kws={\"size\": 14}, fmt='g',cbar=False)\n",
    "print(classification_report(test_labels_, linear_pred))\n"
   ]
  },
  {
   "cell_type": "code",
   "execution_count": 31,
   "id": "833ae017",
   "metadata": {},
   "outputs": [
    {
     "name": "stdout",
     "output_type": "stream",
     "text": [
      "Accuracy Polynomial Kernel: 0.577\n",
      "              precision    recall  f1-score   support\n",
      "\n",
      "           1       0.83      0.69      0.75       200\n",
      "           2       0.85      0.36      0.51       200\n",
      "           3       0.95      0.41      0.57       200\n",
      "           4       0.78      0.58      0.67       200\n",
      "           5       0.33      0.85      0.48       200\n",
      "\n",
      "    accuracy                           0.58      1000\n",
      "   macro avg       0.75      0.58      0.59      1000\n",
      "weighted avg       0.75      0.58      0.59      1000\n",
      "\n"
     ]
    },
    {
     "data": {
      "image/png": "[encoded data removed]",
      "text/plain": [
       "<Figure size 576x576 with 1 Axes>"
      ]
     },
     "metadata": {
      "needs_background": "light"
     },
     "output_type": "display_data"
    }
   ],
   "source": [
    "poly = svm.SVC(kernel='poly', degree=1, C=3, decision_function_shape='ovo').fit(train_features, train_labels)\n",
    "poly_pred = poly.predict(test_features)\n",
    "accuracy_poly = poly.score(test_features, test_labels_)\n",
    "print('Accuracy Polynomial Kernel:', accuracy_poly)\n",
    "fig, ax = plt.subplots(figsize=(8,8))         # Sample figsize in inches\n",
    "cm_poly = confusion_matrix(test_labels_, poly_pred)\n",
    "ax = sns.heatmap(cm_poly, annot=True, cmap='Blues',annot_kws={\"size\": 14}, fmt='g',cbar=False)\n",
    "print(classification_report(test_labels_, poly_pred))\n"
   ]
  },
  {
   "cell_type": "code",
   "execution_count": null,
   "id": "ab80d508",
   "metadata": {},
   "outputs": [],
   "source": []
  },
  {
   "cell_type": "code",
   "execution_count": null,
   "id": "4c09dfcb",
   "metadata": {},
   "outputs": [],
   "source": []
  }
 ],
 "metadata": {
  "kernelspec": {
   "display_name": "Python 3 (ipykernel)",
   "language": "python",
   "name": "python3"
  },
  "language_info": {
   "codemirror_mode": {
    "name": "ipython",
    "version": 3
   },
   "file_extension": ".py",
   "mimetype": "text/x-python",
   "name": "python",
   "nbconvert_exporter": "python",
   "pygments_lexer": "ipython3",
   "version": "3.9.7"
  }
 },
 "nbformat": 4,
 "nbformat_minor": 5
}
